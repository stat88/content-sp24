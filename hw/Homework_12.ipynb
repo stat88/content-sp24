{
 "cells": [
  {
   "cell_type": "markdown",
   "metadata": {
    "#question": false,
    "#solution": false,
    "#staff": false,
    "#student": false
   },
   "source": [
    "<table align=\"left\" style=\"border-style: hidden\" class=\"table\"> <tr><td class=\"col-md-2\"><img style=\"float\" src=\"../logo.png\" alt=\"Data 88S Logo\" style=\"width: 120px;\"/></td><td><div align=\"left\"><h3 style=\"margin-top: 0;\">Probability for Data Science</h3><h4 style=\"margin-top: 20px;\">UC Berkeley, Spring 2024</h4><p>Shobhana Stoyanov</p>CC BY-NC 4.0</div></td></tr></table><!-- not in pdf -->\n",
    "\n",
    "This content is protected and may not be shared, uploaded, or distributed."
   ]
  },
  {
   "cell_type": "markdown",
   "metadata": {
    "#question": false,
    "#solution": false,
    "#staff": false,
    "#student": false
   },
   "source": [
    "# Homework 12 #"
   ]
  },
  {
   "cell_type": "markdown",
   "metadata": {
    "#question": false,
    "#solution": false,
    "#staff": false,
    "#student": false
   },
   "source": [
    "### Instructions\n",
    "\n",
    "Show your work. Give reasoning. The question isn't always going to ask for it, because we assume that you will provide justification for your answers. Every answer should contain a calculation, reasoning, or diagrams that are clearly labeled to show what's going on.\n",
    "\n",
    "We encourage you to hand-write your answers. Start each question on a separate page. It is your responsibility to ensure that the homework is submitted completely and properly to Gradescope. **Make sure to assign each page of your pdf to the correct question.** Refer to the bottom of the notebook for submission instructions.\n",
    "\n",
    "In some of the problems below, you have to do a numerical calculation in a code cell. All the libraries you might need have been imported for you. Run the import cell at the top before you start the homework."
   ]
  },
  {
   "cell_type": "markdown",
   "metadata": {
    "#question": false,
    "#solution": false,
    "#staff": false,
    "#student": true
   },
   "source": [
    "## 1. Pareto Densities ##\n",
    "\n",
    "For fixed $\\alpha > 2$, a random variable $T$ has the *Pareto* distribution with shape parameter $\\alpha$ and possible values $(1, \\infty)$ if the density of $T$ is given by\n",
    "\n",
    "$$f_T(t) = \\begin{cases} 0 & t \\le 1\\\\ ct^{-(\\alpha + 1)} & t > 1.\\end{cases}$$\n",
    "\n",
    "Pareto distributions occur frequently in economics when large values occur somewhat infrequently and small values occur more frequently. For example, Pareto distributions are often used in modeling distributions of wealth or income. \n",
    "\n",
    "**a)** Find $c$.\n",
    "\n",
    "**b)** Find the cdf of $T$.\n",
    "\n",
    "**c)** Find $E(T)$.\n",
    "\n",
    "**d)** Find $Var(T)$."
   ]
  },
  {
   "cell_type": "markdown",
   "metadata": {
    "#question": false,
    "#solution": false,
    "#staff": false,
    "#student": true
   },
   "source": [
    "## 2. Screen-Saver ##\n",
    "\n",
    "A laptop screen-saver displays colored discs of random radius. Let $R_i$ be the radius of the $i$th disc, and suppose $R_1, R_2, R_3 \\ldots $ are i.i.d. with density given by\n",
    "\n",
    "$$\n",
    "f(r) ~ = ~ \n",
    "\\begin{cases}\n",
    "2r ~~~~~~~~ 0 < r < 1 \\\\\n",
    "0 ~~~~~~~~~ \\text{ otherwise. }\n",
    "\\end{cases}\n",
    "$$\n",
    "\n",
    "**a)** What is the chance that at least one of the first 10 discs has area less than $\\dfrac{\\pi}{4}$?\n",
    "\n",
    "**b)** Find the expected area of the first disk."
   ]
  },
  {
   "cell_type": "markdown",
   "metadata": {
    "#question": false,
    "#solution": false,
    "#staff": false,
    "#student": true
   },
   "source": [
    "## 3. Calfiornia Earthquakes ##\n",
    "\n",
    "California is prone to earthquakes, and geostatisticians use probabilistic models to try to understand them. In this exercise, \"earthquake\" will mean an earthquake of magnitude 4.9 or greater on the Richter scale. The figure below shows the distribution of the gaps in time (measured in days) between earthquakes in California during the years 1857 to 2014. The red curve is an exponential density.\n",
    "\n",
    "![earthquake gaps](hw12_q3_plot.png)\n",
    "\n",
    "You can see why it is tempting to use an exponential model for the gaps. You can also see that it's an over-simplifcation. But it's a start. \n",
    "\n",
    "Suppose the time between two earthquakes has the exponential distribution with mean 1100 days.\n",
    "\n",
    "**a)** Find the chance that an earthquake happens within a year after the previous one. Ignore leap years; just use 365 for the number of days in a year. You are using a simplified model for data, so your answers will be rough anyway.\n",
    "\n",
    "**b)** Fill in the blank with a number:\n",
    "\n",
    "There is a 50% chance that an earthquake happens less than $\\underline{~~~~~~~~~~~~~~~}$ days after the previous one.\n",
    "\n",
    "**c)** Let $T$ be the time between two earthquakes, measured in days. Now let $X$ be $T$ measured in years, using 365 days as the length of a year. Write the relation between $T$ and $X$, and then find $P(X \\le x \\text{ years})$ for $x > 0$.\n",
    "\n",
    "**d)** Use Part **c** to identify the distribution of $X$. Provide its name, the parameter or parameters, and the expectation."
   ]
  },
  {
   "cell_type": "markdown",
   "metadata": {
    "#question": false,
    "#solution": false,
    "#staff": false,
    "#student": true
   },
   "source": [
    "## 4. Minimum of Independent Exponentials ##\n",
    "\n",
    "A device has two electronic components. Let $T_1$ be the lifetime of Component 1, and suppose $T_1$ has the exponential distribution with mean 6 years. Let $T_2$ be the lifetime of Component 2, and suppose $T_2$ has the exponential distribution with mean 5 years. \n",
    "\n",
    "Suppose $T_1$ and $T_2$ are independent of each other, and let $M = \\min(T_1, T_2)$ be the minimum of the two lifetimes. In other words, $M$ is the first time one of the two components dies.\n",
    "\n",
    "**a)** For each $t > 0$, find $P(M > t)$.\n",
    "\n",
    "[Hint: If the minimum has to be bigger than $t$, what does that tell you about each of the lifetimes?]\n",
    "\n",
    "**b)** Use Part **a** to identify the distribution of $M$. Provide its name and parameter (or parameters, if there are more than one).\n",
    "\n",
    "**c)** Find $E(M)$."
   ]
  },
  {
   "cell_type": "markdown",
   "metadata": {
    "#question": false,
    "#solution": false,
    "#staff": false,
    "#student": false
   },
   "source": [
    "## Submission Instructions ##\n",
    "\n",
    "Please follow the directions below to properly submit your work.\n",
    "\n",
    "### Written Work ###\n",
    "*  Scan all the pages into a PDF. You can use any scanner or a phone using applications such as CamScanner. Please **DO NOT** simply take pictures using your phone. \n",
    "* Please start a new page for each question. If you have already written multiple questions on the same page, you can crop the image in CamScanner or fold your page over (the old-fashioned way). This helps expedite grading.\n",
    "* It is your responsibility to check that all the work on all the scanned pages is legible.\n",
    "    \n",
    "### Submitting ###\n",
    "* Submit the assignment to Homework 12 on Gradescope. \n",
    "* **Make sure to assign each page of your pdf to the correct question.**\n",
    "* **It is your responsibility to verify that all of your work shows up in your final PDF submission.**\n",
    "\n",
    "If you have questions about scanning or uploading your work, please post a follow-up to the Ed thread on [Gradescope Assignment Submission](https://edstem.org/us/courses/53099/discussion/4133183)."
   ]
  }
 ],
 "metadata": {
  "checksums": [
   "9b052530ba6a36ec21235db506e0dfe9",
   "886d419f98f0e38082de6261b7a7d80d",
   "7b5757edfe3a21b1f7fefbe136ea41da",
   "8bc3243a070d7170989e9d2b95ef2f41",
   "c125ad66fa91e23b74421dc65799d4be",
   "7d8b19fe51dac87b871ceca9ff11c07d",
   "d8f1270de934c3339dc93f8de86d2f73",
   "7ae402a1aa732ceed20696e0f0fbbf9c"
  ],
  "kernelspec": {
   "display_name": "Python 3 (ipykernel)",
   "language": "python",
   "name": "python3"
  },
  "language_info": {
   "codemirror_mode": {
    "name": "ipython",
    "version": 3
   },
   "file_extension": ".py",
   "mimetype": "text/x-python",
   "name": "python",
   "nbconvert_exporter": "python",
   "pygments_lexer": "ipython3",
   "version": "3.9.15"
  },
  "number_of_pagebreaks": 0
 },
 "nbformat": 4,
 "nbformat_minor": 4
}
