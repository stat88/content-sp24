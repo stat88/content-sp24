{
 "cells": [
  {
   "cell_type": "markdown",
   "metadata": {
    "#question": false,
    "#solution": false,
    "#staff": false,
    "#student": false
   },
   "source": [
    "<table align=\"left\" style=\"border-style: hidden\" class=\"table\"> <tr><td class=\"col-md-2\"><img style=\"float\" src=\"../logo.png\" alt=\"Data 88S Logo\" style=\"width: 120px;\"/></td><td><div align=\"left\"><h3 style=\"margin-top: 0;\">Probability for Data Science</h3><h4 style=\"margin-top: 20px;\">UC Berkeley, Spring 2024</h4><p>Shobhana Stoyanov</p>CC BY-NC 4.0</div></td></tr></table><!-- not in pdf -->\n",
    "\n",
    "This content is protected and may not be shared, uploaded, or distributed."
   ]
  },
  {
   "cell_type": "code",
   "execution_count": null,
   "metadata": {
    "#question": false,
    "#solution": false,
    "#staff": false,
    "#student": false
   },
   "outputs": [],
   "source": [
    "from datascience import *\n",
    "import numpy as np\n",
    "from scipy import stats"
   ]
  },
  {
   "cell_type": "markdown",
   "metadata": {
    "#question": false,
    "#solution": false,
    "#staff": false,
    "#student": false
   },
   "source": [
    "# Homework 10 #"
   ]
  },
  {
   "cell_type": "markdown",
   "metadata": {
    "#question": false,
    "#solution": false,
    "#staff": false,
    "#student": false
   },
   "source": [
    "### Instructions\n",
    "\n",
    "Show your work. Give reasoning. The question isn't always going to ask for it, because we assume that you will provide justification for your answers. Every answer should contain a calculation, reasoning, or diagrams that are clearly labeled to show what's going on.\n",
    "\n",
    "We encourage you to hand-write your answers. Start each question on a separate page. It is your responsibility to ensure that the homework is submitted completely and properly to Gradescope. **Make sure to assign each page of your pdf to the correct question.** Refer to the bottom of the notebook for submission instructions.\n",
    "\n",
    "In some of the problems below, you have to do a numerical calculation in a code cell. All the libraries you might need have been imported for you. Run the import cell at the top before you start the homework."
   ]
  },
  {
   "cell_type": "markdown",
   "metadata": {
    "#question": true,
    "#solution": false,
    "#staff": false,
    "#student": false
   },
   "source": [
    "## 1. Airlifting Rhinos ##\n",
    "\n",
    "Poaching is a real threat to rhinoceroses in southern Africa. So, governments and NGOs in the region often relocate the rhinos to protect them. However, relocating them by road is often impractical, so they sometimes airlift them by tying up their feet and suspending them from underneath a helicopter (after tranquilizing them, of course). There was an academic paper to test how this activity affected the rhinos' health ([The Pulmonary and Metabolic Effects of Suspension by the Feet Compared with Lateral Recumbency in Immobilized Black Rhinoceroses Captured by Aerial Darting](https://meridian.allenpress.com/jwd/article/57/2/357/451340/THE-PULMONARY-AND-METABOLIC-EFFECTS-OF-SUSPENSION)). Check out the pictures, they are quite wild (pun not intended).\n",
    "\n",
    "**a)** One important thing to test is how well they are breathing when suspended by the feet--scientists can check their mean breathing rate. Obviously, the true mean breathing rate $\\mu$ for rhinos as a species is unknown. In the sample of this study, the rhinos had a mean breathing rate of $5.6$ breaths/minute with a standard deviation of $1.2$ breaths per minute. Suppose, for this question, that the sample size was 100 rhinos. Construct a 95% confidence interval for the underlying mean $\\mu$.\n",
    "\n",
    "**b)** Do the data indicate that $\\mu = 5$ breaths/minute?"
   ]
  },
  {
   "cell_type": "markdown",
   "metadata": {
    "#question": false,
    "#solution": false,
    "#staff": false,
    "#student": false
   },
   "source": [
    "![rhino](rhino.png)"
   ]
  },
  {
   "cell_type": "markdown",
   "metadata": {
    "#question": true,
    "#solution": false,
    "#staff": false,
    "#student": false
   },
   "source": [
    "## 2. Biden My Time With Polling ##\n",
    "\n",
    "A headline (from January 25) on [news.gallup.com](https://news.gallup.com/poll/609188/biden-third-year-job-approval-average-second-worst.aspx) reads \"Biden's Third-Year Job Approval Average of 39.8% Second Worst.\" The article goes on to state that \"an average of 39.8% of Americans approved of his job performance. Among prior presidents in the Gallup polling era who were elected to their first term, only Jimmy Carter fared worse in his third year. Carter averaged 37.4% approval in a year in which gas prices soared, inflation reached double digits and Iranian militants took U.S. citizens hostage\". The poll methodology states that \"Results are based on telephone interviews conducted January 2-22, 2024, with a random sample of 1,011 adults, ages 18+, living in all 50 U.S. states and the District of Columbia. For results based on this sample of\n",
    "national adults, the margin of sampling error is ±4 percentage points at the 95% confidence level.\"\n",
    "\n",
    "\n",
    "**a)** What is the population?\n",
    "\n",
    "**b)** What is the sample?\n",
    "\n",
    "**c)** What does \"The overall margin of sampling error is plus or minus 4.0 percentage points at the 95 percent confidence level\" mean?\n",
    "\n",
    "**d)** If we want a 99% confidence interval, will the margin of error be larger or smaller? \n",
    "\n",
    "**e)** In general, if all other aspects of the situation remain the same, will smaller margins of error imply greater or less confidence in the interval?\n"
   ]
  },
  {
   "cell_type": "markdown",
   "metadata": {
    "#question": true,
    "#solution": false,
    "#staff": false,
    "#student": false
   },
   "source": [
    "## 3. Ages ##\n",
    "\n",
    "In a simple random sample of size 400 drawn from a population, the average age is 40 years and the SD is 20 years. Also, 18% of the people in the sample are senior citizens. \n",
    "\n",
    "As usual, for Parts **a** and **c**, show your work of how you constructed the confidence interval. Then provide a final numerical answer for the interval. You can use the code cell below.\n",
    "\n",
    "**a)** Construct an approximate 95% confidence interval for the average age of the people in the population.\n",
    "\n",
    "**b)** True or false (explain): The ages of approximately 95% of the population are in the interval you found in Part **a**.\n",
    "\n",
    "**c)** Construct an approximate 95% confidence interval for the **percent** (not the proportion) of senior citizens in the population."
   ]
  },
  {
   "cell_type": "code",
   "execution_count": null,
   "metadata": {
    "#question": false,
    "#solution": false,
    "#staff": false,
    "#student": false
   },
   "outputs": [],
   "source": [
    "# Calculations for a\n"
   ]
  },
  {
   "cell_type": "code",
   "execution_count": null,
   "metadata": {
    "#question": false,
    "#solution": false,
    "#staff": false,
    "#student": false
   },
   "outputs": [],
   "source": [
    "# Calculations for c\n"
   ]
  },
  {
   "cell_type": "markdown",
   "metadata": {
    "#question": false,
    "#solution": false,
    "#staff": false,
    "#student": false
   },
   "source": [
    "## Submission Instructions ##\n",
    "\n",
    "Please follow the directions below to properly submit your work.\n",
    "\n",
    "### Written Work ###\n",
    "*  Scan all the pages into a PDF. You can use any scanner or a phone using applications such as CamScanner. Please **DO NOT** simply take pictures using your phone. \n",
    "* Please start a new page for each question. If you have already written multiple questions on the same page, you can crop the image in CamScanner or fold your page over (the old-fashioned way). This helps expedite grading.\n",
    "* It is your responsibility to check that all the work on all the scanned pages is legible.\n",
    "    \n",
    "### Submitting ###\n",
    "* Submit the assignment to Homework 10 on Gradescope. \n",
    "* **Make sure to assign each page of your pdf to the correct question.**\n",
    "* **It is your responsibility to verify that all of your work shows up in your final PDF submission.**\n",
    "\n",
    "If you have questions about scanning or uploading your work, please post a follow-up to the Ed thread on [Gradescope Assignment Submission](https://edstem.org/us/courses/53099/discussion/4133183)."
   ]
  }
 ],
 "metadata": {
  "checksums": [
   "9b052530ba6a36ec21235db506e0dfe9",
   "d81c015fe17ef0f91b778d7089110778",
   "870c02fb345785012614fbff8cf04412",
   "7b5757edfe3a21b1f7fefbe136ea41da",
   "4dc304731756caa8eac11ea1a2aa3099",
   "cc36a95d13e5f8af467879a294c20398",
   "8e88b78d28c624c2bd8344a1d910f475",
   "b985f7fa71582c4cf14580e6bf0252bc",
   "1525f38ffd3a7d1f8111338ce738fca0",
   "078cca0da4fee84917fed96c298fd5d8",
   "076209116250ed8dd188310ea142bdbd"
  ],
  "kernelspec": {
   "display_name": "Python 3 (ipykernel)",
   "language": "python",
   "name": "python3"
  },
  "language_info": {
   "codemirror_mode": {
    "name": "ipython",
    "version": 3
   },
   "file_extension": ".py",
   "mimetype": "text/x-python",
   "name": "python",
   "nbconvert_exporter": "python",
   "pygments_lexer": "ipython3",
   "version": "3.9.15"
  },
  "number_of_pagebreaks": 0
 },
 "nbformat": 4,
 "nbformat_minor": 4
}
