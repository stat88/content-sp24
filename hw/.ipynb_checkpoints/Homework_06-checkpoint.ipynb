{
 "cells": [
  {
   "cell_type": "markdown",
   "id": "aa2ba279-d3e7-44e6-bfa6-f4267e456af6",
   "metadata": {
    "#question": false,
    "#solution": false,
    "#staff": false,
    "#student": false
   },
   "source": [
    "<table align=\"left\" style=\"border-style: hidden\" class=\"table\"> <tr><td class=\"col-md-2\"><img style=\"float\" src=\"../logo.png\" alt=\"Data 88S Logo\" style=\"width: 120px;\"/></td><td><div align=\"left\"><h3 style=\"margin-top: 0;\">Probability for Data Science</h3><h4 style=\"margin-top: 20px;\">UC Berkeley, Spring 2024</h4><p>Shobhana Stoyanov</p>CC BY-NC 4.0</div></td></tr></table><!-- not in pdf -->\n",
    "\n",
    "This content is protected and may not be shared, uploaded, or distributed."
   ]
  },
  {
   "cell_type": "markdown",
   "id": "962f6f62-fa8e-4e4d-be02-ef503e919c44",
   "metadata": {
    "#question": false,
    "#solution": false,
    "#staff": false,
    "#student": false
   },
   "source": [
    "# Homework 6"
   ]
  },
  {
   "cell_type": "markdown",
   "id": "9ad46a43-0986-48b1-b7e0-a763b6e546e7",
   "metadata": {
    "#question": false,
    "#solution": false,
    "#staff": false,
    "#student": false,
    "tags": []
   },
   "source": [
    "### Instructions\n",
    "\n",
    "Show your work. Give reasoning. The question isn't always going to ask for it, because we assume that you will provide justification for your answers. Every answer should contain a calculation, reasoning, or diagrams that are clearly labeled to show what's going on.\n",
    "\n",
    "We encourage you to hand-write your answers. Start each question on a separate page. It is your responsibility to ensure that the homework is submitted completely and properly to Gradescope. **Make sure to assign each page of your pdf to the correct question.** Refer to the bottom of the notebook for submission instructions.\n",
    "\n",
    "In some of the problems below, you have to do a numerical calculation in a code cell. All the libraries you might need have been imported for you. Run the import cell at the top before you start the homework."
   ]
  },
  {
   "cell_type": "markdown",
   "id": "04343dd7-296d-4a0d-ad1c-0bfdbea0a417",
   "metadata": {
    "#question": true,
    "#solution": false,
    "#staff": false,
    "#student": false
   },
   "source": [
    "## 1. Cars at a Crossing ##\n",
    "\n",
    "Adora sits at a cafe for 30 minutes sipping tea and watching cars go by. Assume:\n",
    "\n",
    "- the number of US-made cars $U$ has the Poisson $(4)$ distribution\n",
    "- the number of Japanese-made cars $J$ has the Poisson $(5)$ distribution\n",
    "- the number of all other cars $X$ has the Poisson $(6)$ distribution\n",
    "\n",
    "Assume also that $U$, $J$, and $X$ are independent of each other, and let the total number of cars be $T = U + J + X$.\n",
    "\n",
    "Some parts below ask for numerical values as well as math expressions. There is a code cell at the end of the exercise for numerical computations. As usual, you do not need to submit any code, just the numerical values when asked.\n",
    "\n",
    "**a)** Write a math expression for $P(U \\ge 5, J \\ge 5)$ that does not include any infinite sums. Then use the code cell to find its numerical value, and provide the numerical value along with your expression.\n",
    "\n",
    "**b)** Write a math expression for $P(J = X)$. It's fine to leave this answer as an infinite sum. You don't have to find a numerical value.\n",
    "\n",
    "**c)** Write a math expression for $P(T = 20)$, and provide its numerical value by using the code cell below."
   ]
  },
  {
   "cell_type": "code",
   "execution_count": null,
   "id": "be2131db-9b23-42ba-9d0a-324974eaedc1",
   "metadata": {
    "#question": false,
    "#solution": false,
    "#staff": false,
    "#student": true
   },
   "outputs": [],
   "source": [
    "# Code cell for Exercise 4 numerical calculations\n"
   ]
  },
  {
   "cell_type": "markdown",
   "id": "fc3c3e17-4169-4ec7-ad7f-2b8492707377",
   "metadata": {
    "#question": true,
    "#solution": false,
    "#staff": false,
    "#student": false,
    "tags": []
   },
   "source": [
    "## 2. Bad Widgets\n",
    "Tara owns a factory that produces $5n$ widgets. Each widget fails the factory's quality control test with chance $\\frac{1}{n}$ independent of all other widgets. Let $W$ be the number of widgets that fail the test.\n",
    "\n",
    "**a)** Fill in each blank with the name of a famous distribution as well as the parameters. **Explain your answers.**\n",
    "\n",
    "The distribution of $W$ is $\\underline{~~~~~~~~~~~~~~~~~~~~~~~~~~~~~~~}$. When $n$ is large, this is well approximated by the $\\underline{~~~~~~~~~~~~~~~~~~~~~~~~~~~~~~~}$ distribution.\n",
    "\n",
    "**b)** For large $n$, write a math expression that approximates $P(W \\leq 4)$. Use the code cell below to find the numerical value of the approximation and provide it with your answer."
   ]
  },
  {
   "cell_type": "code",
   "execution_count": null,
   "id": "ddfc9f22-9ae0-426a-a600-a6daf3453cba",
   "metadata": {
    "#question": false,
    "#solution": false,
    "#staff": false,
    "#student": true
   },
   "outputs": [],
   "source": [
    "# Calculation for b\n"
   ]
  },
  {
   "cell_type": "markdown",
   "id": "41ea886a-ae7c-494c-bb08-2aaeb325a118",
   "metadata": {
    "#question": true,
    "#solution": false,
    "#staff": false,
    "#student": false
   },
   "source": [
    "## 3. Ice Cream Truck ##\n",
    "\n",
    "An ice cream truck has ten different flavors of popsicles. Suppose $n$ customers each pick a flavor at random, independently of the choices of others. In each part below, find the expectation of the described random variable.\n",
    "\n",
    "**a)** the number of flavors that are not picked\n",
    "\n",
    "**b)** the number of flavors that are picked\n",
    "\n",
    "**c)** the number of flavors that are picked by more than one customer"
   ]
  },
  {
   "cell_type": "markdown",
   "id": "d123e198",
   "metadata": {
    "#question": false,
    "#solution": false,
    "#staff": false,
    "#student": false
   },
   "source": [
    "\\newpage"
   ]
  },
  {
   "cell_type": "markdown",
   "id": "58c0a074-5899-4750-b937-ed16fb324a77",
   "metadata": {
    "#question": true,
    "#solution": false,
    "#staff": false,
    "#student": false
   },
   "source": [
    "## 4. Office Hours ##\n",
    "\n",
    "Emily decides to go to office hours the next day. With chance 80% she will go to an afternoon hour, and with the remaining chance she will go in the morning. If she goes in the afternoon, the number of students who will already be in the office hour room when she arrives has the uniform distribution on $\\{3, 4, 5, 6, 7\\}$. If she goes in the morning, the number of students who will already be in office hour room when she arrives has the Poisson $(2)$ distribution.\n",
    "\n",
    "**a)** Find the chance that fewer than 5 students are already in the office hour room when Emily arrives.\n",
    "\n",
    "**b)** Find the expected number of students already in the office hour room when Emily arrives."
   ]
  },
  {
   "cell_type": "markdown",
   "id": "9c548083",
   "metadata": {
    "#question": false,
    "#solution": false,
    "#staff": false,
    "#student": false
   },
   "source": [
    "\\newpage"
   ]
  },
  {
   "cell_type": "markdown",
   "id": "86939398-b33b-49d3-b46c-0cc211f3ac58",
   "metadata": {
    "#question": false,
    "#solution": false,
    "#staff": false,
    "#student": false
   },
   "source": [
    "## Submission Instructions ##\n",
    "\n",
    "Please follow the directions below to properly submit your work.\n",
    "\n",
    "### Written Work ###\n",
    "*  Scan all the pages into a PDF. You can use any scanner or a phone using applications such as CamScanner. Please **DO NOT** simply take pictures using your phone. \n",
    "* Please start a new page for each question. If you have already written multiple questions on the same page, you can crop the image in CamScanner or fold your page over (the old-fashioned way). This helps expedite grading.\n",
    "* It is your responsibility to check that all the work on all the scanned pages is legible.\n",
    "    \n",
    "### Submitting ###\n",
    "* Submit the assignment to Homework 6 on Gradescope. \n",
    "* **Make sure to assign each page of your pdf to the correct question.**\n",
    "* **It is your responsibility to verify that all of your work shows up in your final PDF submission.**\n",
    "\n",
    "If you have questions about scanning or uploading your work, please post a follow-up to the Ed thread on [Gradescope Assignment Submission](https://edstem.org/us/courses/53099/discussion/4133183)."
   ]
  }
 ],
 "metadata": {
  "checksums": [
   "9b052530ba6a36ec21235db506e0dfe9",
   "23e47032618121765ce6ff9147605e9e",
   "7b5757edfe3a21b1f7fefbe136ea41da",
   "82ba90cccf845a099e0d3fed49513e6f",
   "5f479d5078de5a59b601ed1c1d7154ac",
   "dd9007be7becd65b1fa1adb8cebc4726",
   "9140c692403059f49a1e15639b3f7d06",
   "65148d65ac06b809470ad26d89d860b8",
   "562505d567faf02dfc9388e81e89d07b",
   "268e60c8c8a648c43027061f729f99e0",
   "562505d567faf02dfc9388e81e89d07b",
   "8bbb82f04d7319d4637bd6a2c13e39f8"
  ],
  "kernelspec": {
   "display_name": "Python 3 (ipykernel)",
   "language": "python",
   "name": "python3"
  },
  "language_info": {
   "codemirror_mode": {
    "name": "ipython",
    "version": 3
   },
   "file_extension": ".py",
   "mimetype": "text/x-python",
   "name": "python",
   "nbconvert_exporter": "python",
   "pygments_lexer": "ipython3",
   "version": "3.9.15"
  },
  "number_of_pagebreaks": 0
 },
 "nbformat": 4,
 "nbformat_minor": 5
}
