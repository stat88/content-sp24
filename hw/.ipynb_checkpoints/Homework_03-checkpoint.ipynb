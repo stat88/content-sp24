{
 "cells": [
  {
   "cell_type": "markdown",
   "metadata": {
    "#question": false,
    "#solution": false,
    "#staff": false,
    "#student": false
   },
   "source": [
    "<table align=\"left\" style=\"border-style: hidden\" class=\"table\"> <tr><td class=\"col-md-2\"><img style=\"float\" src=\"../logo.png\" alt=\"Data 88S Logo\" style=\"width: 120px;\"/></td><td><div align=\"left\"><h3 style=\"margin-top: 0;\">Probability for Data Science</h3><h4 style=\"margin-top: 20px;\">UC Berkeley, Spring 2024</h4><p>Shobhana Stoyanov</p>CC BY-NC 4.0</div></td></tr></table><!-- not in pdf -->\n",
    "\n",
    "This content is protected and may not be shared, uploaded, or distributed."
   ]
  },
  {
   "cell_type": "code",
   "execution_count": null,
   "metadata": {
    "#question": false,
    "#solution": false,
    "#staff": false,
    "#student": false
   },
   "outputs": [],
   "source": [
    "from datascience import *\n",
    "import numpy as np\n",
    "from scipy import stats"
   ]
  },
  {
   "cell_type": "markdown",
   "metadata": {
    "#question": false,
    "#solution": false,
    "#staff": false,
    "#student": false
   },
   "source": [
    "# Homework 3 #"
   ]
  },
  {
   "cell_type": "markdown",
   "metadata": {
    "#question": false,
    "#solution": false,
    "#staff": false,
    "#student": false
   },
   "source": [
    "### Instructions\n",
    "\n",
    "In all Data 88S homework, you will be providing written answers, not code. We encourage you to hand-write your answers. It is your responsibility to ensure that the homework is submitted completely and properly to Gradescope. **Make sure to assign each page of your pdf to the correct question.** Refer to the bottom of the notebook for submission instructions.\n",
    "\n",
    "In some of the problems below, you have to do a numerical calculation in a code cell. All the libraries you might need have been imported for you. Run the import cell at the top before you start the homework.\n",
    "\n",
    "**Note about terminology:** Once and for all: If a question says \"$k$ successes\" it means exactly $k$ successes."
   ]
  },
  {
   "cell_type": "markdown",
   "metadata": {
    "#question": true,
    "#solution": false,
    "#staff": false,
    "#student": false,
    "tags": []
   },
   "source": [
    "## 1. Balls in Boxes ##\n",
    "\n",
    "Students in probability classes sometimes wonder by probabilists seem to have a peculiar fascination with balls being thrown at random into boxes or drawn at random from urns. It's not just because probabilists are weird. It's because the image of balls and boxes is one unified way of thinking about repeated trials in diverse settings.\n",
    "\n",
    "For example, balls thrown at random into boxes independently of each other is a way of visualizing independent repeated trials that have equally likely outcomes. \n",
    "\n",
    "- Tossing a coin 10 times and keeping track of heads and tails is like throwing 10 balls independently at random into two boxes labeled H and T. The number of heads is the number of balls that fall in Box H.\n",
    "- Rolling a die 15 times and keeping track of the faces that appear is like throwing 15 balls independently at random into six boxes labeled $1, 2, 3, 4, 5, 6$.\n",
    "- Sampling $n$ times at random with replacement from a population of $N$ individuals is like throwing $n$ balls independently at random into $N$ boxes labeled $1, 2, \\ldots, N$. \n",
    "\n",
    "\n",
    "**a)** A random number generator that draws digits at random with replacement from $\\{0, 1, 2, 3, 4, 5, 6, 7, 8, 9\\}$ is run three times. Find the chance that the digits drawn can form the number 510, by rearrangement if necessary. \n",
    "\n",
    "Start by filling in the blanks in the following sentence; the first two blanks should be filled with integers. \"This experiment is like throwing $\\underline{~~~~~~~~~~}$ balls independently at random into $\\underline{~~~~~~~~~~}$ boxes labeled $\\underline{~~~~~~~~~~~~~~~~~~~~~~~~~~~~~~~}$.\" Then imagine where the balls must land to make the event occur. \n",
    "\n",
    "**b)** The mayor of Bogotá, Colombia, implemented a traffic regulation scheme called [Pico y Placa](https://en.wikipedia.org/wiki/Pico_y_placa) in 1998 to help decrease traffic congestion during rush hour in the city. The original scheme was a bit complicated for our purposes, so let's take a simplified model of this idea. Suppose that all cars in Bogotá only have license plates that end in numbers 1 through 7, and cars with license plate numbers ending in:\n",
    "- 1 can only drive on Mondays\n",
    "- 2 can only drive on Tuesdays\n",
    "- 3 can only drive on Wednesdays\n",
    "- 4 can only drive on Thursdays\n",
    "- 5 can only drive on Fridays\n",
    "- 6 can only drive on Saturdays\n",
    "- 7 can only drive on Sundays.\n",
    "\n",
    "Also assume that the last digit of each car's license plate number is assigned by the government at random, independently from all other cars.\n",
    "Find the chance that five cars picked at random in the city are all allowed to drive on different days.\n",
    "\n",
    "Start by filling in the blanks in the following sentence; the first two blanks should be filled with integers. \"This experiment is like throwing $\\underline{~~~~~~~~~~}$ balls independently at random into $\\underline{~~~~~~~~~~}$ boxes labeled $\\underline{~~~~~~~~~~~~~~~~~~~~~~~~~~~~~~~}$.\" Then imagine where the balls must land to make the event occur. \n",
    "\n",
    "Then explicitly find the chance.\n",
    "\n",
    "**c)** A roulette wheel is split into 38 equally-sized arcs. 18 are red, 18 are black, and 2 are green. \n",
    "\n",
    "The wheel is spun three times, where the results of each spin are independent of each other. Using the scheme developed in parts **a)** and **b)**, find the chance that the wheel never lands on black.\n",
    "\n",
    "**d)** In part **c)**, are the events \"the wheel never lands on black\" and \"the wheel never lands on red\" independent? Explain your answer.\n"
   ]
  },
  {
   "cell_type": "markdown",
   "metadata": {
    "#question": false,
    "#solution": false,
    "#staff": false,
    "#student": false
   },
   "source": [
    "\\newpage"
   ]
  },
  {
   "cell_type": "markdown",
   "metadata": {
    "#question": true,
    "#solution": false,
    "#staff": false,
    "#student": false
   },
   "source": [
    "## 2. Faces of a Tetrahedron ##\n",
    "\n",
    "A tetrahedron is a regular four-sided figure, like a four-sided die. Assume that when I roll a tetrahedron, each of the four sides is equally likely to appear, independent of all other rolls. \n",
    "\n",
    "Suppose the sides of the tetrahedron are labeled 1, 2, 3, and 4. Define two random variables:\n",
    "\n",
    "- $X$ is the label that I see on the first roll\n",
    "- $D$ is the number of times I roll till I see a label I have seen before\n",
    "\n",
    "For example, if the first few labels are 3, 4, 1, 3, 1, 2, 1 then $X = 3$ and $D = 4$.\n",
    "\n",
    "**a)** What is the distribution of $X$?\n",
    "\n",
    "**b)** What are the possible values of $D$?\n",
    "\n",
    "**c)** Find the distribution of $D$. Remember to explain your answer, and write arithmetic expressions for the probabilities involved. \n",
    "\n",
    "**d)** Find the decimal values of the probabilities in Part **c**. What should their sum be? Check this numerically using a calculator or the code cell below.\n",
    "\n",
    "**e)** What is the most likely value of $D$, and what is its probability?\n",
    "\n",
    "**f)** Find $P(X = 2, D = 3)$. Write it as an arithmetic expression and find its decimal value."
   ]
  },
  {
   "cell_type": "code",
   "execution_count": null,
   "metadata": {
    "#question": false,
    "#solution": false,
    "#staff": false,
    "#student": true
   },
   "outputs": [],
   "source": [
    "# Calculations in Exercise 2\n",
    "\n",
    "..."
   ]
  },
  {
   "cell_type": "markdown",
   "metadata": {
    "#question": false,
    "#solution": false,
    "#staff": false,
    "#student": false
   },
   "source": [
    "\\newpage"
   ]
  },
  {
   "cell_type": "markdown",
   "metadata": {
    "#question": true,
    "#solution": false,
    "#staff": false,
    "#student": false
   },
   "source": [
    "## 3. Counting Cards ##\n",
    "\n",
    "A 5-card poker hand is dealt from a standard deck of cards (with 4 suits, and 13 kinds for each suit (2, 3, 4, 5, 6, 7, 8 , 9, 10, J, Q, K, A). How many distinct ways are there to form a hand with two pairs? \n",
    "\n",
    "A hand consists of five cards. A hand with two pairs has 2 cards of one kind, 2 cards of another kind, and a fifth card of a third kind. An example of a hand with two pairs is a King of $\\heartsuit$, a King of $\\spadesuit$, a 5 of $\\clubsuit$, a 5 of $\\heartsuit$, and a Jack of $\\heartsuit$."
   ]
  },
  {
   "cell_type": "markdown",
   "metadata": {
    "#question": false,
    "#solution": false,
    "#staff": false,
    "#student": false
   },
   "source": [
    "\\newpage"
   ]
  },
  {
   "cell_type": "markdown",
   "metadata": {
    "#question": true,
    "#solution": false,
    "#staff": false,
    "#student": false
   },
   "source": [
    "## 4. Detecting Breast Cancer ##\n",
    "\n",
    "A 2011 [article](https://ebm.bmj.com/content/16/6/163) in the British Medical Journal attempts to elucdiate Bayes' Rule for the medical profession. It's well worth reading and has some illuminating graphics. In this exercise you will confirm a result stated in the article. Useful terminology:\n",
    "\n",
    "- The *sensitivity* of a test for a medical condition is the proportion of correctly diagnosed patients among those who have the condition.\n",
    "- The *specificity* of the test is the proportion of correctly diagnosed patients among those who do not have the condition.\n",
    "\n",
    "Read those definitions a couple of times and note that a good test should have high values of both sensitivity and specificity.\n",
    "\n",
    "In the section Special Cases, the authors consider a 45-year-old woman who has a 1% chance of getting breast cancer in the subsequent five years. The article says, \"The sensitivity of routine screening mammography ranges from 71% to 96% and the specificity ranges from 94% to 97%. Using values of 80% for sensitivity and 96% for specificity, a positive test increases the probability to 17%.\"\n",
    "\n",
    "For this problem, show your work in finding each probability and box the final decimal answer.\n",
    "\n",
    "**a)** Use the same values as in the authors' calculation and confirm their result that \"a positive test increases the probability to 17%.\"\n",
    "\n",
    "**b)** Find all of the following; percents are fine too:\n",
    "\n",
    "(i) the chance that the woman won't get breast cancer in the subsequent five years\n",
    "\n",
    "(ii) the chance that the woman won't get breast cancer in the subsequent five years, if her test result is negative\n",
    "\n",
    "(iii) the chance that the woman won't get breast cancer in the subsequent five years, if her test result is positive\n",
    "\n",
    "(iv) the chance that the woman's test result is negative\n",
    "\n",
    "\n",
    "**c)** Suppose a woman went to get tested because she believed she had a 10% chance of getting breast cancer in the subsequent five years. What would be her probability of getting the disease, based on a positive test result? Use a sensitivity value of 80% and a specificity value of 96%."
   ]
  },
  {
   "cell_type": "markdown",
   "metadata": {
    "#question": false,
    "#solution": false,
    "#staff": false,
    "#student": false
   },
   "source": [
    "## Submission Instructions ##\n",
    "\n",
    "Please follow the directions below to properly submit both portions.\n",
    "\n",
    "### Written Work ###\n",
    "*  Scan all the pages into a PDF. You can use any scanner or a phone using applications such as CamScanner. Please **DO NOT** simply take pictures using your phone. \n",
    "* Please start a new page for each question. If you have already written multiple questions on the same page, you can crop the image in CamScanner or fold your page over (the old-fashioned way). This helps expedite grading.\n",
    "* It is your responsibility to check that all the work on all the scanned pages is legible.\n",
    "    \n",
    "### Submitting ###\n",
    "* Submit the assignment to Homework 3 on Gradescope. \n",
    "* **Make sure to assign each page of your pdf to the correct question.**\n",
    "* **It is your responsibility to verify that all of your work shows up in your final PDF submission.**\n",
    "\n",
    "If you have questions about scanning or uploading your work, please post a follow-up to the Ed thread on [Gradescope Assignment Submission](https://edstem.org/us/courses/53099/discussion/4133183)."
   ]
  }
 ],
 "metadata": {
  "checksums": [
   "9b052530ba6a36ec21235db506e0dfe9",
   "d81c015fe17ef0f91b778d7089110778",
   "ca466c40003089a428b668a82180c6c6",
   "0946adbe38f9f2c01655990c37fe452f",
   "3ecd89460f0a43af7524db7ba5c098e4",
   "562505d567faf02dfc9388e81e89d07b",
   "50c6b476dfb7d2eef4f544288e55cf84",
   "e71e8497587fb7160828d2562759e76c",
   "562505d567faf02dfc9388e81e89d07b",
   "ccb93e0eddbb7c7cd62a49e1eb39570d",
   "562505d567faf02dfc9388e81e89d07b",
   "543c1235e4e36f9773e4fffc4a6b39b2",
   "b86672fc7048042bde7abcedd79ee82d"
  ],
  "kernelspec": {
   "display_name": "Python 3 (ipykernel)",
   "language": "python",
   "name": "python3"
  },
  "language_info": {
   "codemirror_mode": {
    "name": "ipython",
    "version": 3
   },
   "file_extension": ".py",
   "mimetype": "text/x-python",
   "name": "python",
   "nbconvert_exporter": "python",
   "pygments_lexer": "ipython3",
   "version": "3.9.15"
  },
  "number_of_pagebreaks": 0
 },
 "nbformat": 4,
 "nbformat_minor": 4
}
