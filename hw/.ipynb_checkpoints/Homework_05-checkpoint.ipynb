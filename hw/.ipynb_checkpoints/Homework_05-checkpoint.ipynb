{
 "cells": [
  {
   "cell_type": "markdown",
   "metadata": {
    "#question": false,
    "#solution": false,
    "#staff": false,
    "#student": false
   },
   "source": [
    "<table align=\"left\" style=\"border-style: hidden\" class=\"table\"> <tr><td class=\"col-md-2\"><img style=\"float\" src=\"../logo.png\" alt=\"Data 88S Logo\" style=\"width: 120px;\"/></td><td><div align=\"left\"><h3 style=\"margin-top: 0;\">Probability for Data Science</h3><h4 style=\"margin-top: 20px;\">UC Berkeley, Spring 2024</h4><p>Shobhana Stoyanov</p>CC BY-NC 4.0</div></td></tr></table><!-- not in pdf -->\n",
    "\n",
    "This content is protected and may not be shared, uploaded, or distributed."
   ]
  },
  {
   "cell_type": "code",
   "execution_count": null,
   "metadata": {
    "#question": false,
    "#solution": false,
    "#staff": false,
    "#student": false
   },
   "outputs": [],
   "source": [
    "from datascience import *\n",
    "import numpy as np\n",
    "from scipy import stats"
   ]
  },
  {
   "cell_type": "markdown",
   "metadata": {
    "#question": false,
    "#solution": false,
    "#staff": false,
    "#student": false
   },
   "source": [
    "# Homework 5 - CHANGED!! #"
   ]
  },
  {
   "cell_type": "markdown",
   "metadata": {
    "#question": false,
    "#solution": false,
    "#staff": false,
    "#student": false
   },
   "source": [
    "### Instructions\n",
    "\n",
    "Show your work. Give reasoning. The question isn't always going to ask for it, because we assume that you will provide justification for your answers. Every answer should contain a calculation, reasoning, or diagrams that are clearly labeled to show what's going on.\n",
    "\n",
    "We encourage you to hand-write your answers. Start each question on a separate page. It is your responsibility to ensure that the homework is submitted completely and properly to Gradescope. **Make sure to assign each page of your pdf to the correct question.** Refer to the bottom of the notebook for submission instructions.\n",
    "\n",
    "In some of the problems below, you have to do a numerical calculation in a code cell. All the libraries you might need have been imported for you. Run the import cell at the top before you start the homework."
   ]
  },
  {
   "cell_type": "markdown",
   "metadata": {
    "#question": false,
    "#solution": false,
    "#staff": false,
    "#student": false
   },
   "source": [
    "## 1. Collecting Bears ##\n",
    "\n",
    "A cereal company puts a small plastic bear in some of its cereal boxes. Customers who collect 10 of these bears win a grand prize.\n",
    "\n",
    "Suppose that each box contains a bear with chance 1/5, independently of all other boxes. Suppose also that Nic buys one box of this cereal each week.\n",
    "\n",
    "Let $T_1$ be the number of weeks it takes for Nic to get his first bear.\n",
    "\n",
    "Let $T_{10}$ be the number of weeks it takes for Nic to get his tenth bear.\n",
    "\n",
    "Find the following probabilities. In each part, first write a math expression for the chance. If you have any infinite sums in your expression, please be sure to simplify them. Then use the code cell at the end of the exercise to find the numerical value. Remember that you can use `stats.binom.pmf` for binomial probabilities, and `stats.binom.cdf` for the binomial cdf. Provide the numerical value along with your math expression. \n",
    "\n",
    "**a)** $P(T_1 > 12)$\n",
    "\n",
    "**b)** $P(T_{10} = 40)$\n",
    "\n",
    "**c)** $P(T_{10} > 40)$\n",
    "\n",
    "**d)** $P(T_{10} > 40 \\mid T_{1} = 8)$"
   ]
  },
  {
   "cell_type": "code",
   "execution_count": null,
   "metadata": {
    "#question": false,
    "#solution": false,
    "#staff": false,
    "#student": true
   },
   "outputs": [],
   "source": [
    "# Code cell for Exercise 3 numerical calculations"
   ]
  },
  {
   "cell_type": "markdown",
   "metadata": {
    "#question": false,
    "#solution": false,
    "#staff": false,
    "#student": false
   },
   "source": [
    "\\newpage"
   ]
  },
  {
   "cell_type": "markdown",
   "metadata": {
    "#question": false,
    "#solution": false,
    "#staff": false,
    "#student": false
   },
   "source": [
    "## 2. Missing after Resampling ##\n",
    "\n",
    "A sample of $n$ people includes Archer, Lisha and Nathan. A bootstrap sample ($n$ draws at random with replacement) is drawn from the sample. [Students who are concurrently in Data 8: you'll see lots of bootstrap samples in that class soon.]\n",
    "\n",
    "**a)** Find the chance the probability that none of Archer, Lisha and Nathan is chosen in the bootstrap sample. Be careful about your use of the multiplication rule.\n",
    "\n",
    "**b)** In the code cell below, write a Python expression that evaluates to the numerical answer to Part **a** when $n = 5$. As usual, you won't be turning in the cell. Just pick the choice that arises from your calculation in Part **a**. If you pick (iii), provide the numerical value of your answer.\n",
    "\n",
    "When $n = 5$ the answer to Part **a** is about\n",
    "\n",
    "(i) 1%\n",
    "\n",
    "(ii) 3.5%\n",
    "\n",
    "(iii) Other: $\\underline{~~~~~~~~~~~~~~~~~~~}$"
   ]
  },
  {
   "cell_type": "code",
   "execution_count": null,
   "metadata": {
    "#question": false,
    "#solution": false,
    "#staff": false,
    "#student": true
   },
   "outputs": [],
   "source": [
    "# Expression that evaluates to the answer to 3a when n = 5\n",
    "\n",
    "..."
   ]
  },
  {
   "cell_type": "markdown",
   "metadata": {
    "#question": false,
    "#solution": false,
    "#staff": false,
    "#student": false
   },
   "source": [
    "**c)** Find an exponential approximation to the answer in Part **a** when $n$ is large. Then use the code cell below to find the numerical value of your approximation. Remember that `np.e` evaluates to $e$. Provide the numerical value along with your answer."
   ]
  },
  {
   "cell_type": "code",
   "execution_count": null,
   "metadata": {
    "#question": false,
    "#solution": false,
    "#staff": false,
    "#student": true
   },
   "outputs": [],
   "source": [
    "# Expression that evaluates to the answer to 4c\n",
    "\n",
    "..."
   ]
  },
  {
   "cell_type": "markdown",
   "metadata": {
    "#question": false,
    "#solution": false,
    "#staff": false,
    "#student": false
   },
   "source": [
    "\\newpage"
   ]
  },
  {
   "cell_type": "markdown",
   "metadata": {
    "#question": false,
    "#solution": false,
    "#staff": false,
    "#student": false
   },
   "source": [
    "## 3. Screaming with joy on a reality show ##\n",
    "\n",
    "There is a new reality show on television that highlights probability and gambling. In one of the episodes, there are five people, each sitting in a room by themselves, tossing a __biased__ coin, which has $P(\\text{head}) = p$. The first person to get a head will win five million dollars, and is sure to scream with joy (such being the nature of contestants on these shows). What is the distribution of the number of tosses until we hear a scream?\n",
    "\n",
    "Assume that the contestants toss the coins simultaneously, so (for example) 2 tosses means that each of them tossed twice; and we could have that two of the contestants scream at the same time.\n",
    "    *Hint: Let $X$ be the number of tosses until we hear a scream. What are the possible values that $X$ could take? How would you compute the probability of the first of these values? Now write down the formula.*\n"
   ]
  },
  {
   "cell_type": "code",
   "execution_count": null,
   "metadata": {
    "#question": false,
    "#solution": false,
    "#staff": false,
    "#student": false
   },
   "outputs": [],
   "source": [
    "# student\n",
    "# Expression that gives the distribution with appropriate parameters"
   ]
  },
  {
   "cell_type": "markdown",
   "metadata": {
    "#question": false,
    "#solution": false,
    "#staff": false,
    "#student": false
   },
   "source": [
    "## Submission Instructions ##\n",
    "\n",
    "Please follow the directions below to properly submit your work.\n",
    "\n",
    "### Written Work ###\n",
    "*  Scan all the pages into a PDF. You can use any scanner or a phone using applications such as CamScanner. Please **DO NOT** simply take pictures using your phone. \n",
    "* Please start a new page for each question. If you have already written multiple questions on the same page, you can crop the image in CamScanner or fold your page over (the old-fashioned way). This helps expedite grading.\n",
    "* It is your responsibility to check that all the work on all the scanned pages is legible.\n",
    "    \n",
    "### Submitting ###\n",
    "* Submit the assignment to Homework 5 on Gradescope. \n",
    "* **Make sure to assign each page of your pdf to the correct question.**\n",
    "* **It is your responsibility to verify that all of your work shows up in your final PDF submission.**\n",
    "\n",
    "If you have questions about scanning or uploading your work, please post a follow-up to the Ed thread on [Gradescope Assignment Submission](https://edstem.org/us/courses/35065/discussion/2413516)."
   ]
  },
  {
   "cell_type": "code",
   "execution_count": null,
   "metadata": {
    "#question": false,
    "#solution": false,
    "#staff": false,
    "#student": false
   },
   "outputs": [],
   "source": []
  }
 ],
 "metadata": {
  "checksums": [
   "9b052530ba6a36ec21235db506e0dfe9",
   "d81c015fe17ef0f91b778d7089110778",
   "291e56c71affce7127cca1c7bb5635ae",
   "7b5757edfe3a21b1f7fefbe136ea41da",
   "cfcda477424198f41f5f9fe25880d609",
   "8d7cf9480bd69399d25603b778ea2b17",
   "562505d567faf02dfc9388e81e89d07b",
   "c6f2b342a6de1f3cdf1b4623e0d77575",
   "917443848506022677cc5d37b063eb1a",
   "f38ecd392b77daa311625769c3d8bff6",
   "bd9487756ffd29e1737d255b5e2eb66d",
   "562505d567faf02dfc9388e81e89d07b",
   "0c5ed84a6f55e36e4e23818fd618b837",
   "5fa544fc700e132cc66e866215690e4c",
   "57333073ba2784ccd1e60e466f1a252c",
   "d41d8cd98f00b204e9800998ecf8427e"
  ],
  "kernelspec": {
   "display_name": "Python 3 (ipykernel)",
   "language": "python",
   "name": "python3"
  },
  "language_info": {
   "codemirror_mode": {
    "name": "ipython",
    "version": 3
   },
   "file_extension": ".py",
   "mimetype": "text/x-python",
   "name": "python",
   "nbconvert_exporter": "python",
   "pygments_lexer": "ipython3",
   "version": "3.9.15"
  },
  "number_of_pagebreaks": 0
 },
 "nbformat": 4,
 "nbformat_minor": 4
}
