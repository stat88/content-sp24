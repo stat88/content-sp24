{
 "cells": [
  {
   "cell_type": "markdown",
   "id": "aa2ba279-d3e7-44e6-bfa6-f4267e456af6",
   "metadata": {
    "#question": false,
    "#solution": false,
    "#staff": false,
    "#student": false
   },
   "source": [
    "<table align=\"left\" style=\"border-style: hidden\" class=\"table\"> <tr><td class=\"col-md-2\"><img style=\"float\" src=\"../logo.png\" alt=\"Data 88S Logo\" style=\"width: 120px;\"/></td><td><div align=\"left\"><h3 style=\"margin-top: 0;\">Probability for Data Science</h3><h4 style=\"margin-top: 20px;\">UC Berkeley, Spring 2024</h4><p>Shobhana Stoyanov</p>CC BY-NC 4.0</div></td></tr></table><!-- not in pdf -->\n",
    "\n",
    "This content is protected and may not be shared, uploaded, or distributed."
   ]
  },
  {
   "cell_type": "markdown",
   "id": "962f6f62-fa8e-4e4d-be02-ef503e919c44",
   "metadata": {
    "#question": false,
    "#solution": false,
    "#staff": false,
    "#student": false
   },
   "source": [
    "# Homework 7"
   ]
  },
  {
   "cell_type": "markdown",
   "id": "9ad46a43-0986-48b1-b7e0-a763b6e546e7",
   "metadata": {
    "#question": false,
    "#solution": false,
    "#staff": false,
    "#student": false,
    "tags": []
   },
   "source": [
    "### Instructions\n",
    "\n",
    "Show your work. Give reasoning. The question isn't always going to ask for it, because we assume that you will provide justification for your answers. Every answer should contain a calculation, reasoning, or diagrams that are clearly labeled to show what's going on.\n",
    "\n",
    "We encourage you to hand-write your answers. Start each question on a separate page. It is your responsibility to ensure that the homework is submitted completely and properly to Gradescope. **Make sure to assign each page of your pdf to the correct question.** Refer to the bottom of the notebook for submission instructions.\n",
    "\n",
    "In some of the problems below, you have to do a numerical calculation in a code cell. All the libraries you might need have been imported for you. Run the import cell at the top before you start the homework."
   ]
  },
  {
   "cell_type": "markdown",
   "id": "f79e4591-8872-4434-bd46-993e89aea9bc",
   "metadata": {
    "#question": true,
    "#solution": false,
    "#staff": false,
    "#student": false,
    "id": "jTVr31DXb0CY"
   },
   "source": [
    "## 1. Unbiased Estimator ##\n",
    "\n",
    "The distribution of a random variable $X$ which has possible values $1$ to $4$ involves an unknown parameter $\\theta$.\n",
    "\n",
    "- $P(X = 1) = 0.5$ \n",
    "- $P(X = 2) = \\theta$\n",
    "- $P(X = 3) = \\theta$\n",
    "- $P(X = 4) = 0.5 - 2\\theta$\n",
    "\n",
    "**a)** Let $X_1, X_2, \\ldots, X_n$ be independent and identically distributed, each with the same distribution as $X$ described above. Let $\\bar{X}$ be the sample mean $(X_1 + X_2 + \\ldots + X_n)/n$. Use $\\bar{X}$ to construct an unbiased estimator of $\\theta$.\n",
    "\n",
    "**b)** Suppose that the random variables $X_1, X_2, \\ldots, X_n$ in Part **a)** were not independent but each of them still had the same distribution as $X$. In what way, if any, would this have changed your answer to Part **a**?"
   ]
  },
  {
   "cell_type": "markdown",
   "id": "72723ae8-a70b-4efa-90f5-76c65276a0e2",
   "metadata": {
    "#question": false,
    "#solution": false,
    "#staff": false,
    "#student": false
   },
   "source": [
    "\\newpage"
   ]
  },
  {
   "cell_type": "markdown",
   "id": "0343875f-c80e-4552-9b76-189499a43dc9",
   "metadata": {
    "#question": true,
    "#solution": false,
    "#staff": false,
    "#student": false
   },
   "source": [
    "## 2. Randomized Response ##\n",
    "Survey respondents understandably don't like to answer questions about sensitive topics such as illegal drug use. If data scientists want to estimate the proportion of illegal drug users in a population, they have to devise methods of getting the information they need while maintaining the privacy of the individual respondents.\n",
    "\n",
    "*Randomized response* schemes are often used in such situations. In one such scheme, each surveyed person is given a coin and asked to answer YES or NO after following these instructions out of sight of the surveyor:\n",
    "\n",
    "- Toss the coin.\n",
    "    - If it lands heads, then truthfully answer, \"Do you use illegal drugs?\"\n",
    "    - If it lands tails, then toss it again and answer, \"Did the second toss land heads?\"\n",
    "\n",
    "This way each respondent answers YES or NO but the surveyor doesn't know which question was answered. The data scientists then have to estimate the proportion of illegal drug users based on the overall proportion of YES answers, which includes the YES answers to the second question.\n",
    "\n",
    "Let the unknown proportion of illegal drug users in a large population be $p$, and suppose a random sample of size $n$ is surveyed using the scheme above. You can assume that the sampling is equivalent to drawing at random with replacement.\n",
    "\n",
    "**a)** Let $X$ be the proportion of sampled people who answer YES. Find $E(X)$.\n",
    "\n",
    "**b)** Use $X$ to construct an unbiased estimator of $p$.\n",
    "\n",
    "**c)** Suppose $n = 10$ and the results of the randomized response survey are as follows:\n",
    "\n",
    "$$\\text{NO} \\qquad \\text{YES} \\qquad \\text{NO} \\qquad \\text{NO} \\qquad \\text{NO} \\qquad \\text{NO} \\qquad \\text{YES} \\qquad \\text{NO} \\qquad \\text{YES} \\qquad \\text{NO}.$$\n",
    "\n",
    "Calculate the value of your unbiased estimator of $p$ for this sample."
   ]
  },
  {
   "cell_type": "markdown",
   "id": "d123e198",
   "metadata": {
    "#question": false,
    "#solution": false,
    "#staff": false,
    "#student": false
   },
   "source": [
    "\\newpage"
   ]
  },
  {
   "cell_type": "markdown",
   "id": "5388ca76-4e5b-46eb-a878-555313266a3c",
   "metadata": {
    "#question": true,
    "#solution": false,
    "#staff": false,
    "#student": false,
    "id": "cjUTyNBCb0Cd"
   },
   "source": [
    "## 3. Overlapping Trials ##\n",
    "\n",
    "A die that has four red faces and two green faces is tossed three times. Let $V$ be the number of times green faces show in the first two rolls, let $W$ be the number of times green faces show in the last two rolls, and let $S$ be the number of times green faces show in all three rolls.\n",
    "\n",
    "**a)** For each $w = 0, 1, 2$, find the conditional distribution of $V$ given $W=w$. Your answer should consist of three distribution tables (with reasoning or calculations, of course).\n",
    "\n",
    "**b)** Use your answer to **a** to find $E(V \\mid W = w)$ for each $w = 0, 1, 2$.\n",
    "\n",
    "**c)** Find the conditional distribution of $S$ given $W = 1$, and hence find $E(S \\mid W = 1)$.\n",
    "\n",
    "**d)** Find $E(W \\mid S = 1)$."
   ]
  },
  {
   "cell_type": "markdown",
   "id": "7391b6b1-4f29-4a0c-8382-e9d7ec38954b",
   "metadata": {
    "#question": true,
    "#solution": false,
    "#staff": false,
    "#student": false
   },
   "source": [
    "## 4. Sticker Collection ##\n",
    "\n",
    "Each box of Cal Crunch cereal contains a sticker. The sticker is equally likely to have one of the following five pictures on it, independently of the stickers in all other boxes.\n",
    "\n",
    "- a walking bear\n",
    "- a sleeping bear\n",
    "- the Campanile\n",
    "- Sather Gate\n",
    "- Evans Hall\n",
    "\n",
    "Data 88 GSIs love to snack on Cal Crunch so they buy a box each week and put the sticker in their collection. In what follows, remember that \"till\" means \"up to and including\".\n",
    "\n",
    "**a)** Find the expected number of weeks till their collection has a bear sticker.\n",
    "\n",
    "**b)** Find the expected number of weeks till their collection has all five kinds of stickers.\n",
    "\n",
    "**c)** Find the expected number of weeks till their collection has a bear as well as a campus location.\n",
    "\n",
    "[They will get one of these on the first week. Remember to count that week in your calculation.]"
   ]
  },
  {
   "cell_type": "markdown",
   "id": "86939398-b33b-49d3-b46c-0cc211f3ac58",
   "metadata": {
    "#question": false,
    "#solution": false,
    "#staff": false,
    "#student": false
   },
   "source": [
    "## Submission Instructions ##\n",
    "\n",
    "Please follow the directions below to properly submit your work.\n",
    "\n",
    "### Written Work ###\n",
    "*  Scan all the pages into a PDF. You can use any scanner or a phone using applications such as CamScanner. Please **DO NOT** simply take pictures using your phone. \n",
    "* Please start a new page for each question. If you have already written multiple questions on the same page, you can crop the image in CamScanner or fold your page over (the old-fashioned way). This helps expedite grading.\n",
    "* It is your responsibility to check that all the work on all the scanned pages is legible.\n",
    "    \n",
    "### Submitting ###\n",
    "* Submit the assignment to Homework 7 on Gradescope. \n",
    "* **Make sure to assign each page of your pdf to the correct question.**\n",
    "* **It is your responsibility to verify that all of your work shows up in your final PDF submission.**\n",
    "\n",
    "If you have questions about scanning or uploading your work, please post a follow-up to the Ed thread on [Gradescope Assignment Submission](https://edstem.org/us/courses/53099/discussion/4133183)."
   ]
  }
 ],
 "metadata": {
  "checksums": [
   "9b052530ba6a36ec21235db506e0dfe9",
   "1d162e19707e7cb5b7a1fbc76c833777",
   "7b5757edfe3a21b1f7fefbe136ea41da",
   "166007f4002dc2f6684da2596ff85bd8",
   "562505d567faf02dfc9388e81e89d07b",
   "c9a545f9df02aa12a034283be5bbb417",
   "562505d567faf02dfc9388e81e89d07b",
   "7096b52013cb25540d58b5c544d7a5ec",
   "9c0bfb2bef7e3fb8753478da3f6772da",
   "28afe18a7a183c038e5e7ef8bc2eb419"
  ],
  "kernelspec": {
   "display_name": "Python 3 (ipykernel)",
   "language": "python",
   "name": "python3"
  },
  "language_info": {
   "codemirror_mode": {
    "name": "ipython",
    "version": 3
   },
   "file_extension": ".py",
   "mimetype": "text/x-python",
   "name": "python",
   "nbconvert_exporter": "python",
   "pygments_lexer": "ipython3",
   "version": "3.9.15"
  },
  "number_of_pagebreaks": 0
 },
 "nbformat": 4,
 "nbformat_minor": 5
}
