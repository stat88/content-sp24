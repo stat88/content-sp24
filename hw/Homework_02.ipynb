{
 "cells": [
  {
   "cell_type": "markdown",
   "metadata": {
    "#question": false,
    "#solution": false,
    "#staff": false,
    "#student": false
   },
   "source": [
    "<table align=\"left\" style=\"border-style: hidden\" class=\"table\"> <tr><td class=\"col-md-2\"><img style=\"float\" src=\"../logo.png\" alt=\"Data 88S Logo\" style=\"width: 120px;\"/></td><td><div align=\"left\"><h3 style=\"margin-top: 0;\">Probability for Data Science</h3><h4 style=\"margin-top: 20px;\">UC Berkeley, Spring 2024</h4><p>Shobhana Stoyanov</p>CC BY-NC 4.0</div></td></tr></table><!-- not in pdf -->\n",
    "\n",
    "This content is protected and may not be shared, uploaded, or distributed."
   ]
  },
  {
   "cell_type": "markdown",
   "metadata": {
    "#question": false,
    "#solution": false,
    "#staff": false,
    "#student": false
   },
   "source": [
    "# Homework 2 #"
   ]
  },
  {
   "cell_type": "markdown",
   "metadata": {
    "#question": false,
    "#solution": false,
    "#staff": false,
    "#student": false
   },
   "source": [
    "### Instructions\n",
    "\n",
    "In all Data 88S homework, you will be providing written answers, not code. We encourage you to hand-write your answers. It is your responsibility to ensure that the homework is submitted completely and properly to Gradescope. **Make sure to assign each page of your pdf to the correct question.** Refer to the bottom of the notebook for submission instructions."
   ]
  },
  {
   "cell_type": "markdown",
   "metadata": {
    "#question": true,
    "#solution": false,
    "#staff": false,
    "#student": false,
    "tags": []
   },
   "source": [
    "## 1. Rainy Weekend? ##\n",
    "\n",
    "Suppose you're heading off for a long weekend (Friday, Saturday, and Sunday) somewhere and the weather report for your destination says:\n",
    "\n",
    "- Chance of rain on Friday: 10%\n",
    "- Chance of rain on Saturday: 25%\n",
    "- Chance of rain on Sunday: 30%\n",
    "\n",
    "In each part below, find the chance exactly if it can be found using no further assumptions. If it can't be found, then (again using no further assumptions) find the best lower bound and upper bound that you can.\n",
    "\n",
    "**a)** the chance that it rains in your destination sometime during the long weekend\n",
    "\n",
    "**b)** the chance that it rains in your destination on all three days of the long weekend"
   ]
  },
  {
   "cell_type": "markdown",
   "metadata": {
    "#question": false,
    "#solution": false,
    "#staff": false,
    "#student": false
   },
   "source": [
    "\\newpage"
   ]
  },
  {
   "cell_type": "markdown",
   "metadata": {
    "#question": true,
    "#solution": false,
    "#staff": false,
    "#student": false,
    "tags": []
   },
   "source": [
    "## 2. World Economies ##\n",
    "\n",
    "Economists are making predictions about the financial health of three countries. For $i = 1, 2, 3$, let $G_i$ be the event that Country $i$ has no recession next year. Let $G$ be the event that none of the countries has a recession next year.\n",
    "\n",
    "**a)** Express the event $G$ in terms of the events $G_1$, $G_2$, and $G_3$ and the set operations $\\cup$, $\\cap$, and $^c$. Then, state in plain words what the event $G^c$ is.\n",
    "\n",
    "**b)** Fill in the blank with one of the symbols $\\le$, $=$, and $\\ge$ so that the resulting statement is always true, and explain your answer: $P(G) \\underline{~~~~~~~~~~~~~~~~~} P(G_1)$.\n",
    "\n",
    "**c)** Suppose the economists' predictions are all rosy: $P(G_1) = 0.9$, $P(G_2) = 0.95$, and $P(G_3) = 0.99$.\n",
    "\n",
    "Fill in the blank with the best lower bound you can find, and justify your answer: \n",
    "\n",
    "Without making any further assumptions, we can say that $P(G) \\ge \\underline{~~~~~~~~~~~~~~~}$.\n",
    "\n",
    "[*Hint:* use complements]\n",
    "\n",
    "The method you have discovered in the above parts is commonly used to find bounds on chances of intersections, for example the chance that several estimates based on a random sample all have acceptable accuracy.\n",
    "\n",
    "**d)** Along with the assumptions in part **c)**, further assume that the economy of Country 2 depends strongly on the economy of Country 1. In particular, if Country 1 has no recession next year, then economists predict that Country 2 has an increased chance of $0.99$ of having no recession next year. \n",
    "\n",
    "Find the chance that next year, Country 1 has no recession, but Country 2 does. If it can't be found, then find the best lower bound and upper bound that you can. "
   ]
  },
  {
   "cell_type": "markdown",
   "metadata": {
    "#question": false,
    "#solution": false,
    "#staff": false,
    "#student": false
   },
   "source": [
    "\\newpage"
   ]
  },
  {
   "cell_type": "markdown",
   "metadata": {
    "#question": true,
    "#solution": false,
    "#staff": false,
    "#student": false
   },
   "source": [
    "## 3. Chocolate Box ##\n",
    "\n",
    "A box contains 12 chocolates, 4 of which are white chocolate, 5 milk chocolate, and 3 dark chocolate. \n",
    "\n",
    "I am sharing the box with three of my friends. The four of us take turns, each one drawing a chocolate at random from those available in the box. Yes, we're drawing without replacement. We intend to eat the chocolates, not put them back.\n",
    "\n",
    "Politely, I let my friends draw before me.\n",
    "\n",
    "For each of the subparts, provide your answer as an unsimplified fractional expression.\n",
    "\n",
    "**a)** What is the chance that I draw a dark chocolate?\n",
    "\n",
    "**b)** Given that none of my friends draws a dark chocolate, what is the chance that I draw a dark chocolate?\n",
    "\n",
    "**c)** What is the chance that all four of us draw milk chocolates?\n",
    "\n",
    "**d)** What is the chance that the friend who gets to select first draws a dark chocolate and I draw a dark chocolate too?"
   ]
  },
  {
   "cell_type": "markdown",
   "metadata": {
    "#question": false,
    "#solution": false,
    "#staff": false,
    "#student": false
   },
   "source": [
    "\\newpage"
   ]
  },
  {
   "cell_type": "markdown",
   "metadata": {
    "#question": true,
    "#solution": false,
    "#staff": false,
    "#student": false,
    "tags": []
   },
   "source": [
    "## 4. Flight Delays ##\n",
    "\n",
    "Assume that the chance of a Spirit Airlines flight getting delayed and a Hawaiian Airlines flight getting delayed are independent events. The chance of a Spirit Airlines flight getting delayed is 30% and the chance of a Hawaiian Airlines flight getting delayed is 15% (according to [ValuePenguin.com](https://www.valuepenguin.com/travel/delays-cancellations-bags-study)). \n",
    "\n",
    "Let $A$ represent the event that a Spirit Airlines flight gets delayed, and $B$ represent the event that a Haiwaiian Airlines flight gets delayed.\n",
    "\n",
    "Find the chances below.\n",
    "\n",
    "**a)** The chance of both $A$ and $B$ happening.\n",
    "\n",
    "**b)** The chance of $A$ happening, given that $B$ happened.\n",
    "\n",
    "**c)** The chance of either $A$ or $B$ happening.\n",
    "\n",
    "**d)** The chance of neither $A$ nor $B$ happening."
   ]
  },
  {
   "cell_type": "markdown",
   "metadata": {
    "#question": false,
    "#solution": false,
    "#staff": false,
    "#student": false
   },
   "source": [
    "\\newpage"
   ]
  },
  {
   "cell_type": "markdown",
   "metadata": {
    "#question": false,
    "#solution": false,
    "#staff": false,
    "#student": false,
    "tags": []
   },
   "source": [
    "## Submission Instructions ##\n",
    "\n",
    "Please follow the directions below to properly submit both portions.\n",
    "\n",
    "### Written Work ###\n",
    "*  Scan all the pages into a PDF. You can use any scanner or a phone using applications such as CamScanner. Please **DO NOT** simply take pictures using your phone. \n",
    "* Please start a new page for each question. If you have already written multiple questions on the same page, you can crop the image in CamScanner or fold your page over (the old-fashioned way). This helps expedite grading.\n",
    "* It is your responsibility to check that all the work on all the scanned pages is legible.\n",
    "    \n",
    "### Submitting ###\n",
    "* Submit the assignment to Homework 2 on Gradescope. \n",
    "* **Make sure to assign each page of your pdf to the correct question.**\n",
    "* **It is your responsibility to verify that all of your work shows up in your final PDF submission.**\n",
    "\n",
    "If you have questions about scanning or uploading your work, please post a follow-up to the Ed thread on [Gradescope Assignment Submission](https://edstem.org/us/courses/53099/discussion/4133183)."
   ]
  }
 ],
 "metadata": {
  "checksums": [
   "9b052530ba6a36ec21235db506e0dfe9",
   "b33297e1eff1902e80bcc722d659baa9",
   "c85847e7152d32c127cbdbf83d2eb10d",
   "beffc3e19001532047913b5952e14476",
   "562505d567faf02dfc9388e81e89d07b",
   "433c71f78e10eb28a11eedd5f925c849",
   "562505d567faf02dfc9388e81e89d07b",
   "7bedc4b2b83a58f2e52a6c2da0bd37cb",
   "562505d567faf02dfc9388e81e89d07b",
   "6034ba5b447d8da1550adbb0503586f1",
   "562505d567faf02dfc9388e81e89d07b",
   "0d6eafb5cb73d4fdfcf6dc537c35c411"
  ],
  "kernelspec": {
   "display_name": "Python 3 (ipykernel)",
   "language": "python",
   "name": "python3"
  },
  "language_info": {
   "codemirror_mode": {
    "name": "ipython",
    "version": 3
   },
   "file_extension": ".py",
   "mimetype": "text/x-python",
   "name": "python",
   "nbconvert_exporter": "python",
   "pygments_lexer": "ipython3",
   "version": "3.9.15"
  },
  "number_of_pagebreaks": 0
 },
 "nbformat": 4,
 "nbformat_minor": 4
}
