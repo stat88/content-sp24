{
 "cells": [
  {
   "cell_type": "markdown",
   "metadata": {
    "#question": false,
    "#solution": false,
    "#staff": false,
    "#student": false
   },
   "source": [
    "<table align=\"left\" style=\"border-style: hidden\" class=\"table\"> <tr><td class=\"col-md-2\"><img style=\"float\" src=\"../logo.png\" alt=\"Data 88S Logo\" style=\"width: 120px;\"/></td><td><div align=\"left\"><h3 style=\"margin-top: 0;\">Probability for Data Science</h3><h4 style=\"margin-top: 20px;\">UC Berkeley, Spring 2024</h4><p>Shobhana Stoyanov</p>CC BY-NC 4.0</div></td></tr></table><!-- not in pdf -->\n",
    "\n",
    "This content is protected and may not be shared, uploaded, or distributed."
   ]
  },
  {
   "cell_type": "code",
   "execution_count": null,
   "metadata": {
    "#question": false,
    "#solution": false,
    "#staff": false,
    "#student": false
   },
   "outputs": [],
   "source": [
    "from datascience import *\n",
    "import numpy as np\n",
    "from scipy import stats"
   ]
  },
  {
   "cell_type": "markdown",
   "metadata": {
    "#question": false,
    "#solution": false,
    "#staff": false,
    "#student": false
   },
   "source": [
    "# Homework 5"
   ]
  },
  {
   "cell_type": "markdown",
   "metadata": {
    "#question": false,
    "#solution": false,
    "#staff": false,
    "#student": false
   },
   "source": [
    "### Instructions\n",
    "\n",
    "Show your work. Give reasoning. The question isn't always going to ask for it, because we assume that you will provide justification for your answers. Every answer should contain a calculation, reasoning, or diagrams that are clearly labeled to show what's going on.\n",
    "\n",
    "We encourage you to hand-write your answers. Start each question on a separate page. It is your responsibility to ensure that the homework is submitted completely and properly to Gradescope. **Make sure to assign each page of your pdf to the correct question.** Refer to the bottom of the notebook for submission instructions.\n",
    "\n",
    "In some of the problems below, you have to do a numerical calculation in a code cell. All the libraries you might need have been imported for you. Run the import cell at the top before you start the homework."
   ]
  },
  {
   "cell_type": "markdown",
   "metadata": {
    "#question": true,
    "#solution": false,
    "#staff": false,
    "#student": false
   },
   "source": [
    "## 1. Collecting Bears ##\n",
    "\n",
    "A cereal company puts a small plastic bear in some of its cereal boxes. Customers who collect 10 of these bears win a grand prize.\n",
    "\n",
    "Suppose that each box contains a bear with chance 1/5, independently of all other boxes. Suppose also that Nic buys one box of this cereal each week.\n",
    "\n",
    "Let $T_1$ be the number of weeks it takes for Nic to get his first bear.\n",
    "\n",
    "Let $T_{10}$ be the number of weeks it takes for Nic to get his tenth bear.\n",
    "\n",
    "Find the following probabilities. In each part, first write a math expression for the chance. If you have any infinite sums in your expression, please be sure to simplify them. Then use the code cell at the end of the exercise to find the numerical value. Remember that you can use `stats.binom.pmf` for binomial probabilities, and `stats.binom.cdf` for the binomial cdf. Provide the numerical value along with your math expression. \n",
    "\n",
    "**a)** $P(T_1 > 12)$\n",
    "\n",
    "**b)** $P(T_{10} = 40)$\n",
    "\n",
    "**c)** $P(T_{10} > 40)$\n",
    "\n",
    "**d)** $P(T_{10} > 40 \\mid T_{1} = 8)$"
   ]
  },
  {
   "cell_type": "code",
   "execution_count": null,
   "metadata": {
    "#question": false,
    "#solution": false,
    "#staff": false,
    "#student": true
   },
   "outputs": [],
   "source": [
    "# Code cell for Exercise 3 numerical calculations"
   ]
  },
  {
   "cell_type": "markdown",
   "metadata": {
    "#question": false,
    "#solution": false,
    "#staff": false,
    "#student": false
   },
   "source": [
    "\\newpage"
   ]
  },
  {
   "cell_type": "markdown",
   "metadata": {
    "#question": true,
    "#solution": false,
    "#staff": false,
    "#student": false
   },
   "source": [
    "## 2. Missing after Resampling ##\n",
    "\n",
    "A sample of $n$ people includes Archer, Lisha and Nathan. A bootstrap sample ($n$ draws at random with replacement) is drawn from the sample. [Students who are concurrently in Data 8: you'll see lots of bootstrap samples in that class soon.]\n",
    "\n",
    "**a)** Find the chance the probability that none of Archer, Lisha and Nathan is chosen in the bootstrap sample. Be careful about your use of the multiplication rule.\n",
    "\n",
    "**b)** In the code cell below, write a Python expression that evaluates to the numerical answer to Part **a** when $n = 5$. As usual, you won't be turning in the cell. Just pick the choice that arises from your calculation in Part **a**. If you pick (iii), provide the numerical value of your answer.\n",
    "\n",
    "When $n = 5$ the answer to Part **a** is about\n",
    "\n",
    "(i) 1%\n",
    "\n",
    "(ii) 3.5%\n",
    "\n",
    "(iii) Other: $\\underline{~~~~~~~~~~~~~~~~~~~}$"
   ]
  },
  {
   "cell_type": "code",
   "execution_count": null,
   "metadata": {
    "#question": false,
    "#solution": false,
    "#staff": false,
    "#student": true
   },
   "outputs": [],
   "source": [
    "# Expression that evaluates to the answer to 3a when n = 5\n",
    "\n",
    "..."
   ]
  },
  {
   "cell_type": "markdown",
   "metadata": {
    "#question": false,
    "#solution": false,
    "#staff": false,
    "#student": false
   },
   "source": [
    "**c)** Find an exponential approximation to the answer in Part **a** when $n$ is large. Then use the code cell below to find the numerical value of your approximation. Remember that `np.e` evaluates to $e$. Provide the numerical value along with your answer."
   ]
  },
  {
   "cell_type": "code",
   "execution_count": null,
   "metadata": {
    "#question": false,
    "#solution": false,
    "#staff": false,
    "#student": true
   },
   "outputs": [],
   "source": [
    "# Expression that evaluates to the answer to 4c\n",
    "\n",
    "..."
   ]
  },
  {
   "cell_type": "markdown",
   "metadata": {
    "#question": false,
    "#solution": false,
    "#staff": false,
    "#student": false
   },
   "source": [
    "\\newpage"
   ]
  },
  {
   "cell_type": "markdown",
   "metadata": {
    "#question": true,
    "#solution": false,
    "#staff": false,
    "#student": false
   },
   "source": [
    "## 3. Cars at a Crossing ##\n",
    "\n",
    "Adora sits at a cafe for 30 minutes sipping tea and watching cars go by. Assume:\n",
    "\n",
    "- the number of US-made cars $U$ has the Poisson $(7)$ distribution\n",
    "- the number of Japanese-made cars $J$ has the Poisson $(5)$ distribution\n",
    "- the number of all other cars $X$ has the Poisson $(4)$ distribution\n",
    "\n",
    "Assume also that $U$, $J$, and $X$ are independent of each other, and let the total number of cars be $T = U + J + X$.\n",
    "\n",
    "Some parts below ask for numerical values as well as math expressions. There is a code cell at the end of the exercise for numerical computations. As usual, you do not need to submit any code, just the numerical values when asked.\n",
    "\n",
    "**a)** Write a math expression for $P(U \\ge 9, J \\ge 9)$ that does not include any infinite sums. Then use the code cell to find its numerical value, and provide the numerical value along with your expression.\n",
    "\n",
    "**b)** Write a math expression for $P(J = X)$. It's fine to leave this answer as an infinite sum. You don't have to find a numerical value.\n",
    "\n",
    "**c)** Write a math expression for $P(T = 20)$, and provide its numerical value by using the code cell below."
   ]
  },
  {
   "cell_type": "code",
   "execution_count": null,
   "metadata": {
    "#question": false,
    "#solution": false,
    "#staff": false,
    "#student": true
   },
   "outputs": [],
   "source": [
    "# Code cell for Exercise 4 numerical calculations\n"
   ]
  },
  {
   "cell_type": "markdown",
   "metadata": {
    "#question": false,
    "#solution": false,
    "#staff": false,
    "#student": false
   },
   "source": [
    "\\newpage"
   ]
  },
  {
   "cell_type": "markdown",
   "metadata": {
    "#question": false,
    "#solution": false,
    "#staff": false,
    "#student": false
   },
   "source": [
    "## Submission Instructions ##\n",
    "\n",
    "Please follow the directions below to properly submit your work.\n",
    "\n",
    "### Written Work ###\n",
    "*  Scan all the pages into a PDF. You can use any scanner or a phone using applications such as CamScanner. Please **DO NOT** simply take pictures using your phone. \n",
    "* Please start a new page for each question. If you have already written multiple questions on the same page, you can crop the image in CamScanner or fold your page over (the old-fashioned way). This helps expedite grading.\n",
    "* It is your responsibility to check that all the work on all the scanned pages is legible.\n",
    "    \n",
    "### Submitting ###\n",
    "* Submit the assignment to Homework 5 on Gradescope. \n",
    "* **Make sure to assign each page of your pdf to the correct question.**\n",
    "* **It is your responsibility to verify that all of your work shows up in your final PDF submission.**\n",
    "\n",
    "If you have questions about scanning or uploading your work, please post a follow-up to the Ed thread on [Gradescope Assignment Submission](https://edstem.org/us/courses/53099/discussion/4133183)."
   ]
  }
 ],
 "metadata": {
  "checksums": [
   "9b052530ba6a36ec21235db506e0dfe9",
   "d81c015fe17ef0f91b778d7089110778",
   "d9fa67e420ff6517bb279af341a3d241",
   "7b5757edfe3a21b1f7fefbe136ea41da",
   "cfcda477424198f41f5f9fe25880d609",
   "8d7cf9480bd69399d25603b778ea2b17",
   "562505d567faf02dfc9388e81e89d07b",
   "c6f2b342a6de1f3cdf1b4623e0d77575",
   "917443848506022677cc5d37b063eb1a",
   "f38ecd392b77daa311625769c3d8bff6",
   "bd9487756ffd29e1737d255b5e2eb66d",
   "562505d567faf02dfc9388e81e89d07b",
   "d12eb1319bd7f7aba85c0f5f981c7055",
   "5f479d5078de5a59b601ed1c1d7154ac",
   "562505d567faf02dfc9388e81e89d07b",
   "ecee8b52b689cfe2c770c7ef1367e863",
   "9140c692403059f49a1e15639b3f7d06",
   "562505d567faf02dfc9388e81e89d07b",
   "acd05366cfb79a56cd54d29d9bb8cdf5"
  ],
  "kernelspec": {
   "display_name": "Python 3 (ipykernel)",
   "language": "python",
   "name": "python3"
  },
  "language_info": {
   "codemirror_mode": {
    "name": "ipython",
    "version": 3
   },
   "file_extension": ".py",
   "mimetype": "text/x-python",
   "name": "python",
   "nbconvert_exporter": "python",
   "pygments_lexer": "ipython3",
   "version": "3.9.15"
  },
  "number_of_pagebreaks": 0
 },
 "nbformat": 4,
 "nbformat_minor": 4
}
